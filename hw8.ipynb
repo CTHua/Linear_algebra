{
 "cells": [
  {
   "cell_type": "code",
   "execution_count": 1,
   "metadata": {},
   "outputs": [],
   "source": [
    "%matplotlib inline\n",
    "import matplotlib.pyplot as plt\n",
    "import sympy as sp\n",
    "import numpy as np"
   ]
  },
  {
   "cell_type": "markdown",
   "metadata": {},
   "source": [
    "## 1.Plot a affine subspace U\n",
    "### Let x is a vector on $R^2$ , and y is a subspace in $R^2$ \n",
    "### Let U = x+y is a affine subspace in $R^2. $"
   ]
  },
  {
   "cell_type": "code",
   "execution_count": 28,
   "metadata": {},
   "outputs": [
    {
     "data": {
      "image/png": "[encoded data removed]",
      "text/plain": [
       "<Figure size 432x288 with 1 Axes>"
      ]
     },
     "metadata": {
      "needs_background": "light"
     },
     "output_type": "display_data"
    }
   ],
   "source": [
    "x = np.array([9, -5])\n",
    "y = np.array([-1, -3])\n",
    "bak = np.linspace(10, -30, 500)\n",
    "Ux = []\n",
    "Uy = []\n",
    "\n",
    "plt.axvline(0, c='black',alpha=0.5)\n",
    "plt.axhline(0, c='black',alpha=0.5)\n",
    "\n",
    "for i in bak:\n",
    "  p = x + np.dot(i, y)\n",
    "  plt.scatter(p[0], p[1], s = 10, c = 'green')\n",
    "  Ux.append(p[0])\n",
    "  Uy.append(p[1])\n",
    "U = np.array([Ux, Uy]).T"
   ]
  },
  {
   "cell_type": "markdown",
   "metadata": {},
   "source": [
    "## 2.Plot V\n",
    "### Do Affine Mapping($R^2→R^2$)"
   ]
  },
  {
   "cell_type": "code",
   "execution_count": 30,
   "metadata": {},
   "outputs": [
    {
     "data": {
      "image/png": "[encoded data removed]",
      "text/plain": [
       "<Figure size 432x288 with 1 Axes>"
      ]
     },
     "metadata": {
      "needs_background": "light"
     },
     "output_type": "display_data"
    }
   ],
   "source": [
    "A=np.array([[-1, 5/7],\n",
    "            [-1/5, -3/2]])\n",
    "p0=np.array([-3, 5])\n",
    "Vx = []\n",
    "Vy = []\n",
    "\n",
    "plt.axvline(0, c='black',alpha=0.5)\n",
    "plt.axhline(0, c='black',alpha=0.5)\n",
    "\n",
    "for i in range(U.shape[0]):\n",
    "  pp = p0 + np.dot(A, U[i])\n",
    "  plt.scatter(pp[0], pp[1], s = 10, c = 'blue')\n",
    "  Vx.append(pp[0])\n",
    "  Vy.append(pp[1])\n",
    "\n",
    "V= np.array([Vx, Vy]).T"
   ]
  },
  {
   "cell_type": "markdown",
   "metadata": {},
   "source": [
    "## 3.Compare U & V\n",
    "### Affine Mapping後 依然是Affine Subspace"
   ]
  },
  {
   "cell_type": "code",
   "execution_count": 36,
   "metadata": {},
   "outputs": [
    {
     "data": {
      "text/plain": [
       "<matplotlib.lines.Line2D at 0x2a6c4cc0548>"
      ]
     },
     "execution_count": 36,
     "metadata": {},
     "output_type": "execute_result"
    },
    {
     "data": {
      "image/png": "[encoded data removed]",
      "text/plain": [
       "<Figure size 432x288 with 1 Axes>"
      ]
     },
     "metadata": {
      "needs_background": "light"
     },
     "output_type": "display_data"
    }
   ],
   "source": [
    "plt.scatter(Ux, Uy, s = 5, c = 'green')\n",
    "plt.scatter(Vx, Vy, s = 5, c = 'blue')\n",
    "plt.axvline(0, c='black',alpha=0.5)\n",
    "plt.axhline(0, c='black',alpha=0.5)"
   ]
  },
  {
   "cell_type": "code",
   "execution_count": null,
   "metadata": {},
   "outputs": [],
   "source": []
  }
 ],
 "metadata": {
  "kernelspec": {
   "display_name": "Python 3",
   "language": "python",
   "name": "python3"
  },
  "language_info": {
   "codemirror_mode": {
    "name": "ipython",
    "version": 3
   },
   "file_extension": ".py",
   "mimetype": "text/x-python",
   "name": "python",
   "nbconvert_exporter": "python",
   "pygments_lexer": "ipython3",
   "version": "3.7.4"
  }
 },
 "nbformat": 4,
 "nbformat_minor": 2
}
