{
 "cells": [
  {
   "cell_type": "code",
   "execution_count": 4,
   "metadata": {},
   "outputs": [],
   "source": [
    "%matplotlib inline\n",
    "import numpy as np\n",
    "import matplotlib.pyplot as plt"
   ]
  },
  {
   "cell_type": "markdown",
   "metadata": {},
   "source": [
    "### 情境：\n",
    "　　 今天有一假想國「牆國」，該國某城市「無翰城」總人口40萬人，目前有染疫人口10萬人，每天有20%健康人口染疫，5%染疫人口被治癒(會重複感染)，經過1周後疫情如何。"
   ]
  },
  {
   "cell_type": "code",
   "execution_count": 29,
   "metadata": {},
   "outputs": [],
   "source": [
    "A=np.array([[0.8,0.05], #(人口)\n",
    "           [0.2,0.95]])\n",
    "\n",
    "B=np.array([[0.75],\n",
    "           [0.25]])"
   ]
  },
  {
   "cell_type": "code",
   "execution_count": 59,
   "metadata": {},
   "outputs": [
    {
     "name": "stdout",
     "output_type": "stream",
     "text": [
      "[[0.6125]\n",
      " [0.3875]]\n"
     ]
    }
   ],
   "source": [
    "C=A@B    #第一天\n",
    "print(C)"
   ]
  },
  {
   "cell_type": "code",
   "execution_count": 60,
   "metadata": {},
   "outputs": [
    {
     "name": "stdout",
     "output_type": "stream",
     "text": [
      "[[0.509375]\n",
      " [0.490625]]\n",
      "[[0.43203125]\n",
      " [0.56796875]]\n",
      "[[0.37402344]\n",
      " [0.62597656]]\n",
      "[[0.33051758]\n",
      " [0.66948242]]\n",
      "[[0.29788818]\n",
      " [0.70211182]]\n"
     ]
    }
   ],
   "source": [
    "for num in range(2,7):\n",
    "    C=A@C\n",
    "    print(C)"
   ]
  },
  {
   "cell_type": "markdown",
   "metadata": {},
   "source": [
    "## 結論：\n",
    "    經過7天後，約莫有3成的健康人口，7成染疫人口。"
   ]
  },
  {
   "cell_type": "code",
   "execution_count": 64,
   "metadata": {},
   "outputs": [],
   "source": [
    "healthy=np.array([0.75,0.6125,0.509375,0.43203125,0.37402344,0.33051758,0.29788818])\n",
    "sick=np.array([0.25,0.3875,0.490625,0.56796875,0.62597656,0.66948242,0.70211182])\n",
    "#為了方便顯示，顯示使用百分率\n",
    "healthy=healthy*100\n",
    "sick=sick*100\n",
    "x=np.arange(0,7) "
   ]
  },
  {
   "cell_type": "code",
   "execution_count": 71,
   "metadata": {},
   "outputs": [
    {
     "data": {
      "image/png": "[encoded data removed]",
      "text/plain": [
       "<Figure size 432x288 with 1 Axes>"
      ]
     },
     "metadata": {
      "needs_background": "light"
     },
     "output_type": "display_data"
    }
   ],
   "source": [
    "plt.xlabel(\"day\")\n",
    "plt.ylabel(\"sick%\")\n",
    "plt.plot(x,sick)\n",
    "plt.plot(x,healthy)\n",
    "plt.show()"
   ]
  },
  {
   "cell_type": "code",
   "execution_count": null,
   "metadata": {},
   "outputs": [],
   "source": []
  }
 ],
 "metadata": {
  "kernelspec": {
   "display_name": "Python 3",
   "language": "python",
   "name": "python3"
  },
  "language_info": {
   "codemirror_mode": {
    "name": "ipython",
    "version": 3
   },
   "file_extension": ".py",
   "mimetype": "text/x-python",
   "name": "python",
   "nbconvert_exporter": "python",
   "pygments_lexer": "ipython3",
   "version": "3.7.4"
  }
 },
 "nbformat": 4,
 "nbformat_minor": 2
}
