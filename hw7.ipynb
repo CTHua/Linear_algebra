{
 "cells": [
  {
   "cell_type": "code",
   "execution_count": 1,
   "metadata": {},
   "outputs": [],
   "source": [
    "import sympy as sp\n",
    "import numpy as np"
   ]
  },
  {
   "cell_type": "markdown",
   "metadata": {},
   "source": [
    "### $ \\Phi:\\mathbb{R}^3\\rightarrow\\mathbb{R}^4 $"
   ]
  },
  {
   "cell_type": "markdown",
   "metadata": {},
   "source": [
    "$定義一個矩陣A\\in\\mathbb{R}^3$"
   ]
  },
  {
   "cell_type": "code",
   "execution_count": 28,
   "metadata": {},
   "outputs": [
    {
     "data": {
      "text/latex": [
       "$\\displaystyle \\left[\\begin{matrix}-2 & 7 & 4\\\\-3 & 6 & 8\\\\3 & 0 & 1\\\\5 & 7 & 7\\end{matrix}\\right]$"
      ],
      "text/plain": [
       "Matrix([\n",
       "[-2, 7, 4],\n",
       "[-3, 6, 8],\n",
       "[ 3, 0, 1],\n",
       "[ 5, 7, 7]])"
      ]
     },
     "execution_count": 28,
     "metadata": {},
     "output_type": "execute_result"
    }
   ],
   "source": [
    "A=sp.Matrix([[-2,7,4],\n",
    "             [-3,6,8],\n",
    "             [3,0,1],\n",
    "             [5,7,7]])\n",
    "A"
   ]
  },
  {
   "cell_type": "code",
   "execution_count": 29,
   "metadata": {},
   "outputs": [],
   "source": [
    "#原本的基底\n",
    "B=sp.eye(3)\n",
    "C=sp.eye(4)"
   ]
  },
  {
   "cell_type": "markdown",
   "metadata": {},
   "source": [
    "新基底$\\tilde{B}(B2)及\\tilde{C}(C2)$"
   ]
  },
  {
   "cell_type": "code",
   "execution_count": 30,
   "metadata": {},
   "outputs": [],
   "source": [
    "B2=sp.Matrix([[1,0,3],\n",
    "              [0,1,-1],\n",
    "              [5,-4,0]])\n",
    "C2=sp.Matrix([[7,0,3,-2],\n",
    "              [0,1,-1,1],\n",
    "              [5,-4,0,5],\n",
    "              [1,-6,6,0]])"
   ]
  },
  {
   "cell_type": "markdown",
   "metadata": {},
   "source": [
    "新基底的結果$\\tilde{A}(A2)$"
   ]
  },
  {
   "cell_type": "code",
   "execution_count": 37,
   "metadata": {},
   "outputs": [
    {
     "data": {
      "text/latex": [
       "$\\displaystyle \\left[\\begin{matrix}- \\frac{1738}{239} & \\frac{1203}{239} & \\frac{328}{239}\\\\\\frac{10757}{239} & - \\frac{7321}{239} & - \\frac{4279}{239}\\\\\\frac{12640}{239} & - \\frac{8358}{239} & - \\frac{4015}{239}\\\\\\frac{10726}{239} & - \\frac{7251}{239} & - \\frac{3321}{239}\\end{matrix}\\right]$"
      ],
      "text/plain": [
       "Matrix([\n",
       "[-1738/239,  1203/239,   328/239],\n",
       "[10757/239, -7321/239, -4279/239],\n",
       "[12640/239, -8358/239, -4015/239],\n",
       "[10726/239, -7251/239, -3321/239]])"
      ]
     },
     "execution_count": 37,
     "metadata": {},
     "output_type": "execute_result"
    }
   ],
   "source": [
    "S = B2\n",
    "T = C2\n",
    "A2=T.inv()*A*S\n",
    "A2"
   ]
  },
  {
   "cell_type": "code",
   "execution_count": 43,
   "metadata": {},
   "outputs": [
    {
     "data": {
      "text/plain": [
       "True"
      ]
     },
     "execution_count": 43,
     "metadata": {},
     "output_type": "execute_result"
    }
   ],
   "source": [
    "#檢查兩者是否相等\n",
    "v = sp.Matrix([5,2,0]) \n",
    "u  =B2*v \n",
    "A2*v == T.inv()*A*u"
   ]
  }
 ],
 "metadata": {
  "kernelspec": {
   "display_name": "Python 3",
   "language": "python",
   "name": "python3"
  },
  "language_info": {
   "codemirror_mode": {
    "name": "ipython",
    "version": 3
   },
   "file_extension": ".py",
   "mimetype": "text/x-python",
   "name": "python",
   "nbconvert_exporter": "python",
   "pygments_lexer": "ipython3",
   "version": "3.7.4"
  }
 },
 "nbformat": 4,
 "nbformat_minor": 2
}
